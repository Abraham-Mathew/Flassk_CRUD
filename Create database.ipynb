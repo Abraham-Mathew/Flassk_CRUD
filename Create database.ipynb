{
 "cells": [
  {
   "cell_type": "code",
   "execution_count": 1,
   "metadata": {},
   "outputs": [],
   "source": [
    "import sqlite3 as sql"
   ]
  },
  {
   "cell_type": "code",
   "execution_count": 2,
   "metadata": {},
   "outputs": [
    {
     "data": {
      "text/plain": [
       "<sqlite3.Cursor at 0x22edd9ed5e0>"
      ]
     },
     "execution_count": 2,
     "metadata": {},
     "output_type": "execute_result"
    }
   ],
   "source": [
    "#connect to SQLite\n",
    "con = sql.connect('student.db')\n",
    "\n",
    "#Create a Connection\n",
    "cur = con.cursor()\n",
    "\n",
    "#Drop users table if already exsist.\n",
    "cur.execute(\"DROP TABLE IF EXISTS student\")"
   ]
  },
  {
   "cell_type": "code",
   "execution_count": 3,
   "metadata": {},
   "outputs": [
    {
     "data": {
      "text/plain": [
       "<sqlite3.Cursor at 0x22edd9ed5e0>"
      ]
     },
     "execution_count": 3,
     "metadata": {},
     "output_type": "execute_result"
    }
   ],
   "source": [
    "#Create users table  in db_web database\n",
    "sql ='''CREATE TABLE \"student\" (\n",
    "\t\"student_id\"\tINTEGER PRIMARY KEY AUTOINCREMENT,\n",
    "\t\"first_name\"\tTEXT,\n",
    "\t\"last_name\"\tTEXT,\n",
    "    \"dob\"\tTEXT,\n",
    "    \"amount_due\"\tTEXT\n",
    ")'''\n",
    "cur.execute(sql)"
   ]
  },
  {
   "cell_type": "code",
   "execution_count": 4,
   "metadata": {},
   "outputs": [],
   "source": [
    "#commit changes\n",
    "con.commit()\n",
    "\n",
    "#close the connection\n",
    "con.close()"
   ]
  },
  {
   "cell_type": "code",
   "execution_count": null,
   "metadata": {},
   "outputs": [],
   "source": []
  }
 ],
 "metadata": {
  "kernelspec": {
   "display_name": "Python 3",
   "language": "python",
   "name": "python3"
  },
  "language_info": {
   "codemirror_mode": {
    "name": "ipython",
    "version": 3
   },
   "file_extension": ".py",
   "mimetype": "text/x-python",
   "name": "python",
   "nbconvert_exporter": "python",
   "pygments_lexer": "ipython3",
   "version": "3.8.5"
  }
 },
 "nbformat": 4,
 "nbformat_minor": 4
}
